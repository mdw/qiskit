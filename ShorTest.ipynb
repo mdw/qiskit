#!/usr/bin/env python
# coding: utf-8

# In[1]:


from qiskit import BasicAer
from qiskit.aqua import QuantumInstance
from qiskit.aqua import run_algorithm
from qiskit.aqua.algorithms import Shor


# In[2]:


N = 15
shor = Shor(N)
backend = BasicAer.get_backend('qasm_simulator')
quantum_instance = QuantumInstance(backend, shots=1024)
res = shor.run(quantum_instance)
print(f"The factors of {N} as computed by Shor's algorithm is { res['factors'][0] }")


# In[3]:


# now let's use a real quantum computer
from qiskit import *
N = 9     # this is the largest odd non-prime I could use
shor = Shor(N)
IBMQ.load_account()
provider = IBMQ.get_provider(hub='ibm-q', group='open', project='main')
backend = provider.get_backend('ibmq_burlington')
# default for skip_qobj_validation is True, I was getting an error until I set this to False
quantum_instance = QuantumInstance(backend, shots=1024, skip_qobj_validation=False)
res = shor.run(quantum_instance)
print(f"The factors of {N} as computed by Shor's algorithm is { res['factors'][0] }")


# In[4]:


qiskit.__qiskit_version__


# In[ ]:




