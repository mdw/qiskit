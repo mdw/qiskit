{
 "cells": [
  {
   "cell_type": "code",
   "execution_count": 1,
   "metadata": {},
   "outputs": [],
   "source": [
    "from qiskit import BasicAer\n",
    "from qiskit.aqua import QuantumInstance\n",
    "from qiskit.aqua import run_algorithm\n",
    "from qiskit.aqua.algorithms import Shor"
   ]
  },
  {
   "cell_type": "code",
   "execution_count": 3,
   "metadata": {},
   "outputs": [
    {
     "name": "stdout",
     "output_type": "stream",
     "text": [
      "The factors of 15 as computed by Shor's algorithm are [3, 5]\n"
     ]
    }
   ],
   "source": [
    "\"\"\" run on simulator first, 15 is the largest product of only 2 primes I could use \"\"\"\n",
    "N = 15\n",
    "shor = Shor(N)\n",
    "backend = BasicAer.get_backend('qasm_simulator')\n",
    "quantum_instance = QuantumInstance(backend, shots=1024)\n",
    "res = shor.run(quantum_instance)\n",
    "print(f\"The factors of {N} as computed by Shor's algorithm are { res['factors'][0] }\")"
   ]
  },
  {
   "cell_type": "code",
   "execution_count": 4,
   "metadata": {},
   "outputs": [
    {
     "name": "stdout",
     "output_type": "stream",
     "text": [
      "The factors of 9 as computed by Shor's algorithm are 3\n"
     ]
    }
   ],
   "source": [
    "\"\"\" now let's use a real 5-qubit quantum computer, ibmq_burlington\n",
    "    using a 14-qubit IBM computer did not get us up to 15 \n",
    "    you will need an account and to save the token locally to run this \"\"\"\n",
    "\n",
    "from qiskit import *\n",
    "N = 9     # this is the largest odd non-prime I could use\n",
    "shor = Shor(N)\n",
    "IBMQ.load_account()\n",
    "provider = IBMQ.get_provider(hub='ibm-q', group='open', project='main')\n",
    "backend = provider.get_backend('ibmq_burlington')\n",
    "# default for skip_qobj_validation is True, I was getting an error until I set to False\n",
    "quantum_instance = QuantumInstance(backend, shots=100, skip_qobj_validation=False)\n",
    "res = shor.run(quantum_instance)\n",
    "print(f\"The factors of {N} as computed by Shor's algorithm are { res['factors'][0] }\")"
   ]
  },
  {
   "cell_type": "code",
   "execution_count": 5,
   "metadata": {},
   "outputs": [
    {
     "data": {
      "text/plain": [
       "{'qiskit-terra': '0.10.0',\n",
       " 'qiskit-aer': '0.3.2',\n",
       " 'qiskit-ignis': '0.2.0',\n",
       " 'qiskit-ibmq-provider': '0.3.3',\n",
       " 'qiskit-aqua': '0.6.1',\n",
       " 'qiskit': '0.13.0'}"
      ]
     },
     "execution_count": 5,
     "metadata": {},
     "output_type": "execute_result"
    }
   ],
   "source": [
    "qiskit.__qiskit_version__"
   ]
  },
  {
   "cell_type": "code",
   "execution_count": null,
   "metadata": {},
   "outputs": [],
   "source": []
  }
 ],
 "metadata": {
  "kernelspec": {
   "display_name": "Python 3",
   "language": "python",
   "name": "python3"
  },
  "language_info": {
   "codemirror_mode": {
    "name": "ipython",
    "version": 3
   },
   "file_extension": ".py",
   "mimetype": "text/x-python",
   "name": "python",
   "nbconvert_exporter": "python",
   "pygments_lexer": "ipython3",
   "version": "3.7.4"
  }
 },
 "nbformat": 4,
 "nbformat_minor": 2
}
