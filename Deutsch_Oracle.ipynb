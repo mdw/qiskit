{
 "cells": [
  {
   "cell_type": "code",
   "execution_count": 1,
   "metadata": {},
   "outputs": [],
   "source": [
    "from qiskit import QuantumCircuit, QuantumRegister, ClassicalRegister\n",
    "from qiskit import execute, Aer, __qiskit_version__\n",
    "from qiskit.visualization import plot_histogram"
   ]
  },
  {
   "cell_type": "markdown",
   "metadata": {},
   "source": [
    "__Problem__: Given a black box with 4 possible functions (const-0, const-1, identity, negation)  \n",
    "Decide if the function inside the black box is (const-0 or const-1) or (identity, negation)\n",
    "  \n",
    "With a classical computer we can figure out if `f(x)` is constant or variable function with a minimum of 2 operations, but with a quantum circuit we can do it with one operation.\n",
    "  \n",
    "We need to use 2 qubits for this circuit:  \n",
    "*q0* has `|x>` as input, and `|x>` as output  \n",
    "*q1* has `|0>` as input, and `f(x)` as output (result of mystery function)\n",
    "  \n",
    "If the black box takes `|x0>` to `|11>` then it is a constant function (const=0 or const-1)  \n",
    "If it takes our input `|x0>` to `|10>` then it is a variable function (identity or negation)"
   ]
  },
  {
   "cell_type": "code",
   "execution_count": 2,
   "metadata": {},
   "outputs": [
    {
     "data": {
      "text/plain": [
       "<qiskit.circuit.instructionset.InstructionSet at 0x7f51f387ae50>"
      ]
     },
     "execution_count": 2,
     "metadata": {},
     "output_type": "execute_result"
    }
   ],
   "source": [
    "qr = QuantumRegister(2)\n",
    "cr = ClassicalRegister(2)\n",
    "c = QuantumCircuit(qr, cr)\n",
    "\n",
    "c.x([0,1])\n",
    "c.h([0,1])\n",
    "c.barrier()"
   ]
  },
  {
   "cell_type": "markdown",
   "metadata": {},
   "source": [
    "Now for the black box:  \n",
    "This can be: Identity, Negation, Constant-0, or Constant-1; try all four one at a time!  \n",
    "\n",
    "*q0* is the input and *q1* is the answer bit  \n",
    "if constant=0 or constant-1 the output should be `|11>`  \n",
    "if identity or negation, the output should be `|10>`\n",
    "\n",
    "In the next cell, leave all 4 alone to try constant-0, then un-comment the others one at a time and run to see the results of all four black box functions."
   ]
  },
  {
   "cell_type": "code",
   "execution_count": 3,
   "metadata": {},
   "outputs": [
    {
     "data": {
      "image/png": "[encoded data removed]",
      "text/plain": [
       "<Figure size 588.756x204.68 with 1 Axes>"
      ]
     },
     "execution_count": 3,
     "metadata": {},
     "output_type": "execute_result"
    }
   ],
   "source": [
    "# constant 0 - do nothing, the hadamard will take both bits back to |1>, so |11>\n",
    "\n",
    "# constant 1 - bit flip takes q1 from |-> to -|->, then H takes it to -1, so |11>\n",
    "#c.x(1)\n",
    "\n",
    "# identity - CNOT from q0 to q1, measure should find |01>\n",
    "#c.cx(0,1)\n",
    "\n",
    "# negation - CNOT from q0 to q1 then X applied to q1, measure should find |01>\n",
    "#c.cx(0,1)\n",
    "#c.x(1)\n",
    "\n",
    "# finish the circuit and draw it - don't change these lines below\n",
    "c.barrier()\n",
    "c.h([0,1])\n",
    "c.measure(0,0)\n",
    "c.measure(1,1)\n",
    "c.draw(output='mpl')"
   ]
  },
  {
   "cell_type": "code",
   "execution_count": 4,
   "metadata": {},
   "outputs": [
    {
     "data": {
      "image/png": "[encoded data removed]",
      "text/plain": [
       "<Figure size 504x360 with 1 Axes>"
      ]
     },
     "execution_count": 4,
     "metadata": {},
     "output_type": "execute_result"
    }
   ],
   "source": [
    "simulator = Aer.get_backend('qasm_simulator')\n",
    "result = execute(c, backend=simulator).result()\n",
    "plot_histogram(result.get_counts(c))"
   ]
  },
  {
   "cell_type": "code",
   "execution_count": 5,
   "metadata": {},
   "outputs": [
    {
     "data": {
      "text/plain": [
       "{'qiskit-terra': '0.10.0',\n",
       " 'qiskit-aer': '0.3.2',\n",
       " 'qiskit-ignis': '0.2.0',\n",
       " 'qiskit-ibmq-provider': '0.3.3',\n",
       " 'qiskit-aqua': '0.6.1',\n",
       " 'qiskit': '0.13.0'}"
      ]
     },
     "execution_count": 5,
     "metadata": {},
     "output_type": "execute_result"
    }
   ],
   "source": [
    "__qiskit_version__"
   ]
  },
  {
   "cell_type": "code",
   "execution_count": null,
   "metadata": {},
   "outputs": [],
   "source": []
  }
 ],
 "metadata": {
  "kernelspec": {
   "display_name": "Python 3",
   "language": "python",
   "name": "python3"
  },
  "language_info": {
   "codemirror_mode": {
    "name": "ipython",
    "version": 3
   },
   "file_extension": ".py",
   "mimetype": "text/x-python",
   "name": "python",
   "nbconvert_exporter": "python",
   "pygments_lexer": "ipython3",
   "version": "3.7.4"
  }
 },
 "nbformat": 4,
 "nbformat_minor": 2
}
